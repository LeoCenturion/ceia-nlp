{
 "cells": [
  {
   "cell_type": "code",
   "execution_count": 1,
   "id": "cce15d2d-6ab1-41aa-bc5d-1cf26765c502",
   "metadata": {
    "collapsed": false
   },
   "outputs": [],
   "source": [
    "import nltk\n",
    "from gensim.models import Word2Vec\n",
    "from nltk.tokenize import word_tokenize\n",
    "import re\n",
    "import os\n",
    "import numpy as np\n",
    "from sklearn.manifold import TSNE\n",
    "import matplotlib.pyplot as plt\n",
    "import matplotlib.font_manager"
   ]
  },
  {
   "cell_type": "code",
   "execution_count": 2,
   "id": "e0b55680-58c1-4812-9d61-6891f17fd211",
   "metadata": {
    "collapsed": false
   },
   "outputs": [
    {
     "name": "stderr",
     "output_type": "stream",
     "text": [
      "[nltk_data] Downloading package punkt_tab to\n",
      "[nltk_data]     /home/leocenturion/nltk_data...\n",
      "[nltk_data]   Package punkt_tab is already up-to-date!\n"
     ]
    },
    {
     "data": {
      "text/plain": [
       "True"
      ]
     },
     "execution_count": 2,
     "metadata": {},
     "output_type": "execute_result"
    }
   ],
   "source": [
    "\n",
    "nltk.download('punkt_tab')\n",
    "\n"
   ]
  },
  {
   "cell_type": "code",
   "execution_count": 3,
   "id": "dd032f98-7578-4213-a8ed-e5371e3cd65e",
   "metadata": {
    "collapsed": false
   },
   "outputs": [],
   "source": [
    "import io\n"
   ]
  },
  {
   "cell_type": "code",
   "execution_count": 4,
   "id": "a8d06fde-e0f0-4d4b-a6a3-b06fa02e8ac5",
   "metadata": {
    "collapsed": false
   },
   "outputs": [],
   "source": [
    "tokenized_corpus = []\n",
    "for file in os.listdir('./gutenberg_ebooks/'):\n",
    "    with open(f'./gutenberg_ebooks/{file}', encoding=\"utf-8\") as f:\n",
    "        for line in f:\n",
    "            cleaned_sentence = re.sub(r'[^\\w\\s]', '', line).lower()\n",
    "            tokens = word_tokenize(cleaned_sentence, language='english')\n",
    "            tokenized_corpus.append(tokens)\n"
   ]
  },
  {
   "cell_type": "code",
   "execution_count": 5,
   "id": "af0002fb-1186-4f57-8c32-15edd8de3a98",
   "metadata": {
    "collapsed": false
   },
   "outputs": [],
   "source": [
    "model = Word2Vec(\n",
    "    sentences=tokenized_corpus,\n",
    "    vector_size=25,  # Dimensionality of the word vectors\n",
    "    window=10,         # Context window size\n",
    "    min_count=1,      # Minimum word frequency\n",
    "    workers=12,        # Number of threads to use (set to your core count)\n",
    "    sg=0\n",
    ")"
   ]
  },
  {
   "cell_type": "code",
   "execution_count": 28,
   "id": "5af90911-2b2b-4a9a-95e6-dae766ec6b74",
   "metadata": {
    "collapsed": false
   },
   "outputs": [],
   "source": []
  },
  {
   "cell_type": "code",
   "execution_count": 7,
   "id": "2aaf9c12-a959-463d-a5a1-f763fb027c91",
   "metadata": {
    "collapsed": false
   },
   "outputs": [
    {
     "data": {
      "text/plain": [
       "0.82099575"
      ]
     },
     "execution_count": 7,
     "metadata": {},
     "output_type": "execute_result"
    }
   ],
   "source": [
    "similarity_king_queen = model.wv.similarity('king', 'queen')\n",
    "similarity_king_queen"
   ]
  },
  {
   "cell_type": "code",
   "execution_count": 8,
   "id": "cad9494a-f6f9-4658-a3b8-0de9062fdb12",
   "metadata": {
    "collapsed": false
   },
   "outputs": [
    {
     "data": {
      "text/plain": [
       "[('progression', 0.8947585821151733),\n",
       " ('repression', 0.8835926055908203),\n",
       " ('inversion', 0.8783217668533325),\n",
       " ('excitation', 0.8776395320892334),\n",
       " ('electrolytic', 0.8768057823181152)]"
      ]
     },
     "execution_count": 8,
     "metadata": {},
     "output_type": "execute_result"
    }
   ],
   "source": [
    "model.wv.most_similar('evolution', topn=5)"
   ]
  },
  {
   "cell_type": "code",
   "execution_count": 8,
   "id": "ae8c8fbb-ce14-4042-826c-fd242fcb1683",
   "metadata": {
    "collapsed": false
   },
   "outputs": [],
   "source": []
  },
  {
   "cell_type": "code",
   "execution_count": 9,
   "id": "a75ddde3-1435-4254-af6a-38db02101e55",
   "metadata": {
    "collapsed": false
   },
   "outputs": [
    {
     "data": {
      "text/plain": [
       "[('mind', 0.8935612440109253),\n",
       " ('nature', 0.8693029880523682),\n",
       " ('intelligence', 0.8677243590354919),\n",
       " ('heart', 0.8595109581947327),\n",
       " ('spirit', 0.8491923213005066)]"
      ]
     },
     "execution_count": 9,
     "metadata": {},
     "output_type": "execute_result"
    }
   ],
   "source": [
    "model.wv.most_similar('soul', topn=5)"
   ]
  },
  {
   "cell_type": "code",
   "execution_count": 9,
   "id": "3f58e2fa-b0b2-444e-bcf9-e6b77b5b9386",
   "metadata": {
    "collapsed": false
   },
   "outputs": [],
   "source": []
  },
  {
   "cell_type": "code",
   "execution_count": 10,
   "id": "2c495f90-b7b7-44d6-9a70-d497a5c45b2c",
   "metadata": {
    "collapsed": false
   },
   "outputs": [
    {
     "data": {
      "text/plain": [
       "[('_manig_', 0.7476661205291748),\n",
       " ('key_', 0.72478848695755),\n",
       " ('wetime', 0.7004038691520691),\n",
       " ('conductorb', 0.6960381269454956),\n",
       " ('desvanecido', 0.6810216307640076)]"
      ]
     },
     "execution_count": 10,
     "metadata": {},
     "output_type": "execute_result"
    }
   ],
   "source": [
    "model.wv.most_similar(positive=['man'], negative=['honor'], topn=5)"
   ]
  },
  {
   "cell_type": "code",
   "execution_count": 11,
   "id": "2c1ac6c2-fe5f-4eae-8199-4c1a2e84ac48",
   "metadata": {
    "collapsed": false
   },
   "outputs": [
    {
     "data": {
      "text/plain": [
       "0.5361534"
      ]
     },
     "execution_count": 11,
     "metadata": {},
     "output_type": "execute_result"
    }
   ],
   "source": [
    "model.wv.similarity('man', 'superior')"
   ]
  },
  {
   "cell_type": "code",
   "execution_count": 12,
   "id": "fcd89770-1992-45f9-959f-a279820aef20",
   "metadata": {
    "collapsed": false
   },
   "outputs": [
    {
     "data": {
      "text/plain": [
       "[('inferior', 0.8741395473480225),\n",
       " ('ruling', 0.8096668720245361),\n",
       " ('spiritual', 0.8056595325469971),\n",
       " ('supreme', 0.8022550940513611),\n",
       " ('personal', 0.7915631532669067)]"
      ]
     },
     "execution_count": 12,
     "metadata": {},
     "output_type": "execute_result"
    }
   ],
   "source": [
    "model.wv.most_similar(positive=['superior'], topn=5)"
   ]
  },
  {
   "cell_type": "code",
   "execution_count": 13,
   "id": "c312449f-ec54-4492-be79-98532a98b983",
   "metadata": {
    "collapsed": false
   },
   "outputs": [
    {
     "data": {
      "text/plain": [
       "[('covenant', 0.9008625149726868),\n",
       " ('admission', 0.8967700600624084),\n",
       " ('treaty', 0.8959665894508362),\n",
       " ('alliance', 0.8741931319236755),\n",
       " ('authority', 0.8710476160049438)]"
      ]
     },
     "execution_count": 13,
     "metadata": {},
     "output_type": "execute_result"
    }
   ],
   "source": [
    "model.wv.most_similar(positive=['government', 'vote'], topn=5)"
   ]
  },
  {
   "cell_type": "code",
   "execution_count": 14,
   "id": "52ed7d1f-06ee-4240-9643-108b86a897cb",
   "metadata": {
    "collapsed": false
   },
   "outputs": [
    {
     "data": {
      "text/plain": [
       "[('workin', 0.803756058216095),\n",
       " ('civilized', 0.7282466888427734),\n",
       " ('civilization', 0.6920186281204224),\n",
       " ('mesenterics', 0.6789389252662659),\n",
       " ('capable811', 0.6779670715332031)]"
      ]
     },
     "execution_count": 14,
     "metadata": {},
     "output_type": "execute_result"
    }
   ],
   "source": [
    "model.wv.most_similar(positive=['government'], negative=['vote'], topn=5)"
   ]
  },
  {
   "cell_type": "code",
   "execution_count": 15,
   "id": "5297a9a9-5330-4866-91cc-4d8aa7eb90d4",
   "metadata": {
    "collapsed": false
   },
   "outputs": [
    {
     "data": {
      "text/plain": [
       "[('finite', 0.8567092418670654),\n",
       " ('sensitive', 0.852538526058197),\n",
       " ('substantial', 0.8485475182533264),\n",
       " ('quality', 0.8337474465370178),\n",
       " ('element', 0.8267849087715149),\n",
       " ('immaterial', 0.8242918848991394),\n",
       " ('undivided', 0.8157826662063599),\n",
       " ('affinity', 0.7996261715888977),\n",
       " ('instinct', 0.798629879951477),\n",
       " ('substance', 0.7967497706413269)]"
      ]
     },
     "execution_count": 15,
     "metadata": {},
     "output_type": "execute_result"
    }
   ],
   "source": [
    "model.wv.most_similar(positive=['animal', 'rational'], topn=10)"
   ]
  },
  {
   "cell_type": "code",
   "execution_count": 16,
   "id": "2396b1ca-954e-47c2-885e-2ed930601d03",
   "metadata": {
    "collapsed": false
   },
   "outputs": [
    {
     "data": {
      "text/plain": [
       "[('woman', 0.8945556879043579),\n",
       " ('citizen', 0.8448512554168701),\n",
       " ('person', 0.8256551027297974),\n",
       " ('workman', 0.8189637660980225),\n",
       " ('creature', 0.8083547353744507),\n",
       " ('slave', 0.7789849638938904),\n",
       " ('deed', 0.7678898572921753),\n",
       " ('selfaccused', 0.767116904258728),\n",
       " ('thing', 0.7666612267494202),\n",
       " ('fortune', 0.7639452219009399)]"
      ]
     },
     "execution_count": 16,
     "metadata": {},
     "output_type": "execute_result"
    }
   ],
   "source": [
    "model.wv.most_similar(positive=['man'], topn=10)"
   ]
  },
  {
   "cell_type": "code",
   "execution_count": 17,
   "id": "e2dcef52-16fc-4d82-a410-4c6b6f52b79b",
   "metadata": {
    "collapsed": false
   },
   "outputs": [
    {
     "data": {
      "text/plain": [
       "[('heaven', 0.8863197565078735),\n",
       " ('zeus', 0.8726857900619507),\n",
       " ('jove', 0.8395525217056274),\n",
       " ('gods', 0.8160310387611389),\n",
       " ('heavn', 0.8012691736221313),\n",
       " ('justice', 0.791684627532959),\n",
       " ('truth', 0.7753244042396545),\n",
       " ('divine', 0.7745051980018616),\n",
       " ('sovran', 0.7633399367332458),\n",
       " ('prometheus', 0.7618566751480103)]"
      ]
     },
     "execution_count": 17,
     "metadata": {},
     "output_type": "execute_result"
    }
   ],
   "source": [
    "model.wv.most_similar('god', topn=10)"
   ]
  },
  {
   "cell_type": "code",
   "execution_count": 18,
   "id": "1d2a6dd4-a689-4acb-8a1c-27aa9031cad8",
   "metadata": {
    "collapsed": false
   },
   "outputs": [
    {
     "data": {
      "text/plain": [
       "[('christ', 0.8483758568763733),\n",
       " ('mahomet', 0.8272493481636047),\n",
       " ('moses', 0.8191419243812561),\n",
       " ('abraham', 0.8054323196411133),\n",
       " ('dionysius', 0.7928140759468079),\n",
       " ('gospel', 0.7726422548294067),\n",
       " ('athanasius', 0.7629269957542419),\n",
       " ('theodosius', 0.7604589462280273),\n",
       " ('contravention', 0.7513666749000549),\n",
       " ('peter', 0.7492272853851318)]"
      ]
     },
     "execution_count": 18,
     "metadata": {},
     "output_type": "execute_result"
    }
   ],
   "source": [
    "model.wv.most_similar('jesus', topn=10)"
   ]
  },
  {
   "cell_type": "code",
   "execution_count": 19,
   "id": "b585145d-d062-446a-976e-07f1e92662a2",
   "metadata": {
    "collapsed": false
   },
   "outputs": [
    {
     "data": {
      "text/plain": [
       "[('sparta', 0.959345817565918),\n",
       " ('rome', 0.951134204864502),\n",
       " ('lacedaemon', 0.8999408483505249),\n",
       " ('antioch', 0.8980553150177002),\n",
       " ('italy', 0.8879421949386597)]"
      ]
     },
     "execution_count": 19,
     "metadata": {},
     "output_type": "execute_result"
    }
   ],
   "source": [
    "model.wv.most_similar(positive=['athens'], topn=5)"
   ]
  },
  {
   "cell_type": "code",
   "execution_count": 20,
   "id": "8ac8efd6-5473-4bde-b3b9-823ba9cc2244",
   "metadata": {
    "collapsed": false
   },
   "outputs": [
    {
     "data": {
      "text/plain": [
       "[('pompey', 0.9257498383522034),\n",
       " ('brutus', 0.8901711702346802),\n",
       " ('crassus', 0.8879533410072327),\n",
       " ('antony', 0.8874254822731018),\n",
       " ('emperor', 0.8830015659332275)]"
      ]
     },
     "execution_count": 20,
     "metadata": {},
     "output_type": "execute_result"
    }
   ],
   "source": [
    "model.wv.most_similar(positive=['caesar'], topn=5)"
   ]
  },
  {
   "cell_type": "code",
   "execution_count": 21,
   "id": "20993d9d-550a-4f24-abed-76ab536ef10a",
   "metadata": {
    "collapsed": false
   },
   "outputs": [
    {
     "data": {
      "text/plain": [
       "[('theology', 0.8870297074317932),\n",
       " ('science', 0.878290593624115),\n",
       " ('morality', 0.8716159462928772),\n",
       " ('plato', 0.8432615399360657),\n",
       " ('politics', 0.8422377109527588)]"
      ]
     },
     "execution_count": 21,
     "metadata": {},
     "output_type": "execute_result"
    }
   ],
   "source": [
    "model.wv.most_similar(positive=['philosophy'], topn=5)"
   ]
  },
  {
   "cell_type": "code",
   "execution_count": 22,
   "id": "2f217c13-81db-4f11-99a7-e2750409a7f9",
   "metadata": {
    "collapsed": false
   },
   "outputs": [
    {
     "data": {
      "text/plain": [
       "0.5441056"
      ]
     },
     "execution_count": 22,
     "metadata": {},
     "output_type": "execute_result"
    }
   ],
   "source": [
    "model.wv.similarity('god', 'son')"
   ]
  },
  {
   "cell_type": "code",
   "execution_count": 23,
   "id": "61b68390-016f-4c81-97bb-336bbadffc41",
   "metadata": {
    "collapsed": false
   },
   "outputs": [
    {
     "data": {
      "text/plain": [
       "['the',\n",
       " 'of',\n",
       " 'and',\n",
       " 'to',\n",
       " 'in',\n",
       " 'a',\n",
       " 'that',\n",
       " 'is',\n",
       " 'his',\n",
       " 'with',\n",
       " 'i',\n",
       " 'it',\n",
       " 'as',\n",
       " 'he',\n",
       " 'not',\n",
       " 'for',\n",
       " 'by',\n",
       " 'be',\n",
       " 'which',\n",
       " 'but',\n",
       " 'or',\n",
       " 'this',\n",
       " 'was',\n",
       " 'from',\n",
       " 'they',\n",
       " 'all',\n",
       " 'are',\n",
       " 'on',\n",
       " 'have',\n",
       " 'you',\n",
       " 'at',\n",
       " 'their',\n",
       " 'so',\n",
       " 'him',\n",
       " 'my',\n",
       " 'we',\n",
       " 'who',\n",
       " 'had',\n",
       " 'them',\n",
       " 'if',\n",
       " 'one',\n",
       " 'what',\n",
       " 'no',\n",
       " 'will',\n",
       " 'were',\n",
       " 'me',\n",
       " 'her',\n",
       " 'an',\n",
       " 'when',\n",
       " 'more',\n",
       " 'there',\n",
       " 'can',\n",
       " 'other',\n",
       " 'then',\n",
       " 'may',\n",
       " 'would',\n",
       " 'our',\n",
       " 'any',\n",
       " 'now',\n",
       " 'these',\n",
       " 'thou',\n",
       " 'has',\n",
       " 'man',\n",
       " 'such',\n",
       " 'some',\n",
       " 'than',\n",
       " 'do',\n",
       " 'been',\n",
       " 'thy',\n",
       " 'she',\n",
       " 'only',\n",
       " 'into',\n",
       " 'those',\n",
       " 'shall',\n",
       " 'first',\n",
       " 'us',\n",
       " 'your',\n",
       " 'upon',\n",
       " 'its',\n",
       " 'said',\n",
       " 'must',\n",
       " 'should',\n",
       " 'god',\n",
       " 'yet',\n",
       " 'great',\n",
       " 'out',\n",
       " 'most',\n",
       " 'how',\n",
       " 'same',\n",
       " 'good',\n",
       " 'thee',\n",
       " 'time',\n",
       " 'men',\n",
       " 'being',\n",
       " 'own',\n",
       " 'very',\n",
       " 'like',\n",
       " 'thus',\n",
       " 'things',\n",
       " 'nor',\n",
       " 'two',\n",
       " 'where',\n",
       " 'without',\n",
       " 'up',\n",
       " 'much',\n",
       " 'see',\n",
       " 'before',\n",
       " 'made',\n",
       " 'many',\n",
       " 'could',\n",
       " 'though',\n",
       " 'after',\n",
       " 'project',\n",
       " 'well',\n",
       " 'de',\n",
       " 'also',\n",
       " 'himself',\n",
       " 'gutenberg',\n",
       " 'life',\n",
       " 'say',\n",
       " 'about',\n",
       " 'might',\n",
       " 'through',\n",
       " 'here',\n",
       " 'part',\n",
       " 'know',\n",
       " 'therefore',\n",
       " 'let',\n",
       " 'whom',\n",
       " 'both',\n",
       " 'make',\n",
       " 'work',\n",
       " 'nature',\n",
       " 'come',\n",
       " 'every',\n",
       " 'another',\n",
       " 'even',\n",
       " 'did',\n",
       " 'p',\n",
       " 'way',\n",
       " 'never',\n",
       " 'each',\n",
       " 'power',\n",
       " 'still',\n",
       " 'against',\n",
       " 'am',\n",
       " 'return',\n",
       " 'place',\n",
       " 'under',\n",
       " 'long',\n",
       " 'love',\n",
       " 'while',\n",
       " 'because',\n",
       " 'world',\n",
       " 'day',\n",
       " 'o',\n",
       " 'death',\n",
       " 'too',\n",
       " 'state',\n",
       " 'reason',\n",
       " 'nothing',\n",
       " 'mind',\n",
       " 'thir',\n",
       " 'old',\n",
       " 'give',\n",
       " 'over',\n",
       " 'king',\n",
       " 'people',\n",
       " 'found',\n",
       " 'thought',\n",
       " 'take',\n",
       " 'son',\n",
       " 'far',\n",
       " 'hath',\n",
       " 'little',\n",
       " 'hand',\n",
       " 'whole',\n",
       " 'true',\n",
       " 'name',\n",
       " 'does',\n",
       " 'father',\n",
       " 'others',\n",
       " 'thing',\n",
       " 'themselves',\n",
       " 'again',\n",
       " 'whose',\n",
       " 'body',\n",
       " 'having',\n",
       " 'go',\n",
       " 'use',\n",
       " 'right',\n",
       " 'down',\n",
       " 'either',\n",
       " 'earth',\n",
       " 'gods',\n",
       " 'words',\n",
       " 'between',\n",
       " 'last',\n",
       " 'less',\n",
       " 'once',\n",
       " 'works',\n",
       " 'new',\n",
       " 'just',\n",
       " 'whether',\n",
       " 'itself',\n",
       " 'since',\n",
       " 'end',\n",
       " 'why',\n",
       " 'came',\n",
       " 'ever',\n",
       " 'among',\n",
       " 'find',\n",
       " 'full',\n",
       " 'think',\n",
       " 'art',\n",
       " 'three',\n",
       " 'set',\n",
       " 'law',\n",
       " 'called',\n",
       " 'cause',\n",
       " 'soul',\n",
       " 'away',\n",
       " 'light',\n",
       " 'till',\n",
       " 'la',\n",
       " 'c',\n",
       " 'form',\n",
       " 'however',\n",
       " 'present',\n",
       " 'general',\n",
       " 'certain',\n",
       " 'soon',\n",
       " 'order',\n",
       " 'above',\n",
       " 'heart',\n",
       " 'ye',\n",
       " 'truth',\n",
       " 'knowledge',\n",
       " 'always',\n",
       " 'high',\n",
       " 'word',\n",
       " 'left',\n",
       " 'best',\n",
       " 'means',\n",
       " 'years',\n",
       " 'country',\n",
       " 'forth',\n",
       " 'according',\n",
       " 'head',\n",
       " 'lord',\n",
       " 'better',\n",
       " 'off',\n",
       " 'tell',\n",
       " 'laws',\n",
       " 'within',\n",
       " 'night',\n",
       " 'given',\n",
       " 'socrates',\n",
       " 'indeed',\n",
       " 'different',\n",
       " 'eyes',\n",
       " 'city',\n",
       " 'rather',\n",
       " 'young',\n",
       " 'second',\n",
       " 'put',\n",
       " 'rest',\n",
       " 'alone',\n",
       " 'ii',\n",
       " 'done',\n",
       " 'perhaps',\n",
       " 'heavn',\n",
       " 'number',\n",
       " 'kind',\n",
       " 'case',\n",
       " 'war',\n",
       " 'person',\n",
       " 'human',\n",
       " 'matter',\n",
       " 'brought',\n",
       " 'manner',\n",
       " 'th',\n",
       " 'sense',\n",
       " 'parts',\n",
       " '1',\n",
       " 'least',\n",
       " 'fear',\n",
       " 'speak',\n",
       " 'says',\n",
       " 'terms',\n",
       " 'side',\n",
       " 'back',\n",
       " 'tis',\n",
       " 'land',\n",
       " 'free',\n",
       " '2',\n",
       " 'common',\n",
       " 'seen',\n",
       " 'house',\n",
       " 'subject',\n",
       " 'natural',\n",
       " 'el',\n",
       " 'together',\n",
       " 'often',\n",
       " 'και',\n",
       " 'heard',\n",
       " 'gave',\n",
       " 'heaven',\n",
       " 'l',\n",
       " 'greater',\n",
       " 'neither',\n",
       " 'hands',\n",
       " 'states',\n",
       " 'saw',\n",
       " 'seems',\n",
       " 'days',\n",
       " 'hear',\n",
       " 'public',\n",
       " 'sea',\n",
       " 'air',\n",
       " 'taken',\n",
       " 'que',\n",
       " 'lost',\n",
       " 'evil',\n",
       " 'went',\n",
       " 'call',\n",
       " 'further',\n",
       " 'blood',\n",
       " 'electronic',\n",
       " 'foundation',\n",
       " 'something',\n",
       " 'force',\n",
       " 'thousand',\n",
       " 'age',\n",
       " 'took',\n",
       " 'arms',\n",
       " 'ill',\n",
       " 'almost',\n",
       " 'known',\n",
       " 'round',\n",
       " 'spirit',\n",
       " 'sent',\n",
       " 'fair',\n",
       " 'already',\n",
       " 'idea',\n",
       " 'y',\n",
       " 'none',\n",
       " 'small',\n",
       " 'times',\n",
       " 'look',\n",
       " 'dead',\n",
       " 'dream',\n",
       " 'divine',\n",
       " 'object',\n",
       " 'act',\n",
       " '3',\n",
       " 'sir',\n",
       " 'several',\n",
       " 'mine',\n",
       " 'woman',\n",
       " 'myself',\n",
       " 'live',\n",
       " 'water',\n",
       " 'told',\n",
       " 'course',\n",
       " 'bring',\n",
       " 'few',\n",
       " 'sight',\n",
       " 'en',\n",
       " 'else',\n",
       " 'hope',\n",
       " 'ground',\n",
       " 'pleasure',\n",
       " 'fire',\n",
       " 'friends',\n",
       " 'children',\n",
       " 'answer',\n",
       " 'ought',\n",
       " 'fact',\n",
       " 'point',\n",
       " 'hast',\n",
       " 'friend',\n",
       " 'peace',\n",
       " 'iii',\n",
       " 'opinion',\n",
       " 'hundred',\n",
       " 'fall',\n",
       " 'action',\n",
       " 'towards',\n",
       " 'become',\n",
       " 'received',\n",
       " 'particular',\n",
       " 'species',\n",
       " 'next',\n",
       " 'hence',\n",
       " 'desire',\n",
       " 'united',\n",
       " 'possible',\n",
       " 'account',\n",
       " 'chapter',\n",
       " 'mean',\n",
       " 'leave',\n",
       " 'anything',\n",
       " 'necessary',\n",
       " 'stood',\n",
       " 'enough',\n",
       " 'home',\n",
       " 'believe',\n",
       " 'hold',\n",
       " 'used',\n",
       " 'honour',\n",
       " 'strength',\n",
       " 'seem',\n",
       " 'comes',\n",
       " 'keep',\n",
       " 'e',\n",
       " 'ideas',\n",
       " 'wife',\n",
       " 'mother',\n",
       " 'character',\n",
       " 'sometimes',\n",
       " 'quite',\n",
       " 'mr',\n",
       " 'purpose',\n",
       " 'book',\n",
       " 'thoughts',\n",
       " 'money',\n",
       " 'voice',\n",
       " 'care',\n",
       " 'during',\n",
       " 'equal',\n",
       " 'face',\n",
       " 'poor',\n",
       " 'able',\n",
       " 'virtue',\n",
       " 'makes',\n",
       " 'principle',\n",
       " 'women',\n",
       " 'question',\n",
       " 'justice',\n",
       " 'change',\n",
       " 'agreement',\n",
       " 'gold',\n",
       " 'four',\n",
       " 'persons',\n",
       " 'near',\n",
       " 'appear',\n",
       " 'pure',\n",
       " 'oh',\n",
       " 'effect',\n",
       " 'master',\n",
       " 'need',\n",
       " 'sun',\n",
       " 'government',\n",
       " 'holy',\n",
       " 'view',\n",
       " 'show',\n",
       " 'child',\n",
       " 'following',\n",
       " 'greek',\n",
       " 'large',\n",
       " 'stand',\n",
       " 'copyright',\n",
       " 'brother',\n",
       " 'είναι',\n",
       " 'bodies',\n",
       " 'began',\n",
       " 'fell',\n",
       " 'lady',\n",
       " 'lay',\n",
       " 'follow',\n",
       " 'pass',\n",
       " 'ancient',\n",
       " 'third',\n",
       " '4',\n",
       " 'former',\n",
       " 'deep',\n",
       " 'rome',\n",
       " 'doubt',\n",
       " 'beyond',\n",
       " 'eye',\n",
       " 'tom',\n",
       " 'fathers',\n",
       " 'help',\n",
       " 'self',\n",
       " 'want',\n",
       " 'sweet',\n",
       " 'knew',\n",
       " 'charge',\n",
       " 'certainly',\n",
       " 'except',\n",
       " 'license',\n",
       " 'get',\n",
       " 'pain',\n",
       " 'doth',\n",
       " 'length',\n",
       " 'although',\n",
       " 'chorus',\n",
       " 'experience',\n",
       " 'bear',\n",
       " 'sort',\n",
       " 'contrary',\n",
       " 'grace',\n",
       " 'roman',\n",
       " 'animals',\n",
       " 'living',\n",
       " 'strong',\n",
       " 'half',\n",
       " 'powers',\n",
       " 'wise',\n",
       " 'saying',\n",
       " 'die',\n",
       " 'glory',\n",
       " 'latter',\n",
       " 'longer',\n",
       " 'held',\n",
       " 'turn',\n",
       " 'short',\n",
       " 'wish',\n",
       " 'thine',\n",
       " 'existence',\n",
       " 'condition',\n",
       " 'whatever',\n",
       " 'read',\n",
       " 'moment',\n",
       " 'understand',\n",
       " 'year',\n",
       " 'example',\n",
       " 'joy',\n",
       " 'unto',\n",
       " 'kings',\n",
       " 'making',\n",
       " 'appears',\n",
       " 'fortune',\n",
       " 'army',\n",
       " 'note',\n",
       " 'relation',\n",
       " 'proper',\n",
       " 'unless',\n",
       " 'obj',\n",
       " 'false',\n",
       " 'iv',\n",
       " 'dear',\n",
       " 'enemy',\n",
       " 'το',\n",
       " 'various',\n",
       " 'understanding',\n",
       " 'history',\n",
       " 'faith',\n",
       " 'sound',\n",
       " 'greatest',\n",
       " 'degree',\n",
       " 'dark',\n",
       " 'angels',\n",
       " 'play',\n",
       " 'going',\n",
       " 'produce',\n",
       " 'command',\n",
       " 'hell',\n",
       " 'sure',\n",
       " 'sons',\n",
       " 'vain',\n",
       " 'open',\n",
       " 'besides',\n",
       " 'respect',\n",
       " 'easily',\n",
       " 'yes',\n",
       " 'philosophy',\n",
       " 'feet',\n",
       " 'wisdom',\n",
       " 'afterwards',\n",
       " 'interest',\n",
       " 'produced',\n",
       " 'los',\n",
       " 'individual',\n",
       " 'regard',\n",
       " 'receive',\n",
       " 'noble',\n",
       " 'agree',\n",
       " 'al',\n",
       " 'sin',\n",
       " 'donations',\n",
       " 'real',\n",
       " 'enter',\n",
       " 'single',\n",
       " 'daughter',\n",
       " 'q',\n",
       " 'meet',\n",
       " 'really',\n",
       " 'language',\n",
       " 'cases',\n",
       " 'youth',\n",
       " 'past',\n",
       " 'names',\n",
       " 'hard',\n",
       " 'clear',\n",
       " 'due',\n",
       " 'ere',\n",
       " 'prince',\n",
       " 'born',\n",
       " 'empire',\n",
       " 'motion',\n",
       " 'line',\n",
       " 'led',\n",
       " 'created',\n",
       " 'ask',\n",
       " 'got',\n",
       " 'whence',\n",
       " 'authority',\n",
       " 'literary',\n",
       " 'consider',\n",
       " 'ten',\n",
       " 'future',\n",
       " 'reply',\n",
       " 'emperor',\n",
       " 'rule',\n",
       " 'difference',\n",
       " 'plain',\n",
       " 'white',\n",
       " 'race',\n",
       " 'forms',\n",
       " 'copy',\n",
       " 'seek',\n",
       " 'bad',\n",
       " 'strange',\n",
       " 'immediately',\n",
       " 'η',\n",
       " 'coming',\n",
       " 'service',\n",
       " '10',\n",
       " 'don',\n",
       " 'along',\n",
       " 'asked',\n",
       " 'happy',\n",
       " 'paid',\n",
       " 'principles',\n",
       " 'sleep',\n",
       " 'five',\n",
       " 'considered',\n",
       " 'fight',\n",
       " 'gives',\n",
       " 'speech',\n",
       " 'rich',\n",
       " 'actions',\n",
       " 'occasion',\n",
       " 'merely',\n",
       " 'v',\n",
       " 'fate',\n",
       " 'mere',\n",
       " 'laid',\n",
       " 'feel',\n",
       " 'ah',\n",
       " 'objects',\n",
       " 'everything',\n",
       " 'perfect',\n",
       " 'answered',\n",
       " 'throne',\n",
       " 'scene',\n",
       " 'instead',\n",
       " 'ff',\n",
       " 'chief',\n",
       " 'bound',\n",
       " 'sacred',\n",
       " 'beginning',\n",
       " 'simple',\n",
       " 'knows',\n",
       " 'enemies',\n",
       " 'suppose',\n",
       " 'archive',\n",
       " 'private',\n",
       " 'carried',\n",
       " 'ebook',\n",
       " 'birds',\n",
       " 'met',\n",
       " 'behold',\n",
       " 'please',\n",
       " 'trademark',\n",
       " 'thence',\n",
       " 'church',\n",
       " 'seeing',\n",
       " 'praise',\n",
       " 'bright',\n",
       " 'beauty',\n",
       " 'judge',\n",
       " 'labour',\n",
       " 'universal',\n",
       " 'especially',\n",
       " '5',\n",
       " 'zeus',\n",
       " 'save',\n",
       " 'oft',\n",
       " 'mans',\n",
       " 'mankind',\n",
       " 'causes',\n",
       " 'passed',\n",
       " 'field',\n",
       " 'business',\n",
       " 'spirits',\n",
       " 'substance',\n",
       " 'written',\n",
       " 'gone',\n",
       " 'generally',\n",
       " 'plato',\n",
       " 'mortal',\n",
       " 'follows',\n",
       " 'husband',\n",
       " 'religion',\n",
       " 'danger',\n",
       " 'birth',\n",
       " 'battle',\n",
       " 'impossible',\n",
       " 'feeling',\n",
       " 'concerning',\n",
       " 'court',\n",
       " 'cast',\n",
       " 'important',\n",
       " 'athens',\n",
       " 'town',\n",
       " 'higher',\n",
       " 'seemed',\n",
       " 'queen',\n",
       " 'space',\n",
       " 'taste',\n",
       " 'wide',\n",
       " 'woe',\n",
       " 'hir',\n",
       " 'original',\n",
       " 'kept',\n",
       " 'lead',\n",
       " 'places',\n",
       " 'late',\n",
       " 'cried',\n",
       " 'close',\n",
       " 'male',\n",
       " 'pay',\n",
       " 'eternal',\n",
       " 'image',\n",
       " 'became',\n",
       " 'ourselves',\n",
       " 'nations',\n",
       " 'footnote',\n",
       " 'duke',\n",
       " 'sufficient',\n",
       " 'ready',\n",
       " 'secret',\n",
       " 'measure',\n",
       " 'passage',\n",
       " 'author',\n",
       " 'paragraph',\n",
       " 'adam',\n",
       " 'shalt',\n",
       " 'sword',\n",
       " 'serve',\n",
       " 'necessity',\n",
       " 'family',\n",
       " 'replied',\n",
       " 'nay',\n",
       " 'access',\n",
       " 'memory',\n",
       " 'angel',\n",
       " 'highest',\n",
       " 'argument',\n",
       " 'quantity',\n",
       " 'influence',\n",
       " 'food',\n",
       " 'meaning',\n",
       " 'lies',\n",
       " 'speaking',\n",
       " 'below',\n",
       " 'conception',\n",
       " 'worse',\n",
       " 'felt',\n",
       " 'taking',\n",
       " 'athenians',\n",
       " 'wild',\n",
       " 'horse',\n",
       " 'value',\n",
       " 'learn',\n",
       " 'probably',\n",
       " 'et',\n",
       " 'society',\n",
       " 'hour',\n",
       " 'rise',\n",
       " 'john',\n",
       " 'del',\n",
       " 'behind',\n",
       " 'story',\n",
       " 'send',\n",
       " 'herself',\n",
       " 'female',\n",
       " 'να',\n",
       " 'easy',\n",
       " 'takes',\n",
       " 'lie',\n",
       " 'soldiers',\n",
       " 'judgment',\n",
       " 'presence',\n",
       " 'black',\n",
       " 'otherwise',\n",
       " 'happiness',\n",
       " 'worth',\n",
       " 'st',\n",
       " 'ways',\n",
       " 'run',\n",
       " 'loss',\n",
       " 'eve',\n",
       " 'observed',\n",
       " 'moral',\n",
       " 'room',\n",
       " 'shame',\n",
       " 'placed',\n",
       " 'until',\n",
       " 'office',\n",
       " 'infinite',\n",
       " 'creatures',\n",
       " 'similar',\n",
       " 'passion',\n",
       " 'citizens',\n",
       " 'content',\n",
       " 'bed',\n",
       " 'athenian',\n",
       " 'romans',\n",
       " 'foot',\n",
       " 'information',\n",
       " 'distance',\n",
       " 'attention',\n",
       " 'tongue',\n",
       " 'morning',\n",
       " 'wrong',\n",
       " 'tears',\n",
       " 'freedom',\n",
       " 'supposed',\n",
       " 'reign',\n",
       " 'pope',\n",
       " 'liberty',\n",
       " 'including',\n",
       " 'whilst',\n",
       " 'fit',\n",
       " 'becomes',\n",
       " 'lo',\n",
       " 'remember',\n",
       " 'cold',\n",
       " 'duty',\n",
       " 'lives',\n",
       " 'science',\n",
       " 'την',\n",
       " 'ones',\n",
       " 'seat',\n",
       " 'understood',\n",
       " 'prove',\n",
       " 'intellect',\n",
       " 'support',\n",
       " 'property',\n",
       " 'pride',\n",
       " 'courage',\n",
       " 'shown',\n",
       " 'subjects',\n",
       " 'silver',\n",
       " 'proportion',\n",
       " 'taught',\n",
       " 'six',\n",
       " 'paradise',\n",
       " 'greeks',\n",
       " 'instance',\n",
       " 'beautiful',\n",
       " 'distinct',\n",
       " 'appeared',\n",
       " 'learned',\n",
       " 'consequently',\n",
       " 'worthy',\n",
       " 'difficulty',\n",
       " 'capital',\n",
       " 'likewise',\n",
       " 'remains',\n",
       " 'exist',\n",
       " 'opposite',\n",
       " 'pray',\n",
       " 'added',\n",
       " 'sake',\n",
       " '20',\n",
       " 'refund',\n",
       " 'drawn',\n",
       " 'remain',\n",
       " 'period',\n",
       " 'english',\n",
       " 'delight',\n",
       " 'conditions',\n",
       " 'εις',\n",
       " 'later',\n",
       " 'dont',\n",
       " 'se',\n",
       " 'stranger',\n",
       " 'som',\n",
       " 'carry',\n",
       " 'formed',\n",
       " 'fine',\n",
       " 'ships',\n",
       " 'wonder',\n",
       " 'advantage',\n",
       " 'por',\n",
       " 'letter',\n",
       " 'equally',\n",
       " 'company',\n",
       " 'royal',\n",
       " 'minds',\n",
       " 'low',\n",
       " 'heat',\n",
       " 'wine',\n",
       " 'essence',\n",
       " 'του',\n",
       " 'draw',\n",
       " 'ordinary',\n",
       " 'proof',\n",
       " 'turned',\n",
       " 'choice',\n",
       " 'doing',\n",
       " 'conduct',\n",
       " 'cut',\n",
       " 'modern',\n",
       " 'las',\n",
       " '6',\n",
       " 'share',\n",
       " 'provided',\n",
       " 'kingdom',\n",
       " 'flight',\n",
       " 'cities',\n",
       " 'effects',\n",
       " 'truly',\n",
       " 'numbers',\n",
       " 'sit',\n",
       " 'provide',\n",
       " 'acts',\n",
       " 'circumstances',\n",
       " 'price',\n",
       " 'song',\n",
       " 'temple',\n",
       " 'described',\n",
       " 'nearly',\n",
       " 'satan',\n",
       " 'begin',\n",
       " 'hair',\n",
       " 'lest',\n",
       " 'wit',\n",
       " 'suffer',\n",
       " 'consciousness',\n",
       " 'yourself',\n",
       " 'flesh',\n",
       " 'considerable',\n",
       " 'hee',\n",
       " 'victory',\n",
       " 'gentle',\n",
       " 'followed',\n",
       " 'stay',\n",
       " 'tax',\n",
       " 'freely',\n",
       " 'su',\n",
       " 'mouth',\n",
       " 'lower',\n",
       " 'mighty',\n",
       " 'lines',\n",
       " 'kai',\n",
       " 'died',\n",
       " 'wealth',\n",
       " 'golden',\n",
       " 'christian',\n",
       " 'success',\n",
       " 'hardly',\n",
       " 'chance',\n",
       " 'hate',\n",
       " 'wings',\n",
       " 'naturally',\n",
       " 'suddenly',\n",
       " 'colour',\n",
       " 'darkness',\n",
       " 'loved',\n",
       " 'animal',\n",
       " 'giving',\n",
       " 'silence',\n",
       " 'tree',\n",
       " 'employed',\n",
       " 'sad',\n",
       " 'fame',\n",
       " 'section',\n",
       " 'amongst',\n",
       " 'current',\n",
       " 'fruit',\n",
       " 'dr',\n",
       " 'associated',\n",
       " 'host',\n",
       " 'thinking',\n",
       " 'bold',\n",
       " 'spake',\n",
       " 'move',\n",
       " 'aid',\n",
       " 'proud',\n",
       " 'early',\n",
       " 'fixed',\n",
       " 'm',\n",
       " 'sudden',\n",
       " 'marriage',\n",
       " ...]"
      ]
     },
     "execution_count": 23,
     "metadata": {},
     "output_type": "execute_result"
    }
   ],
   "source": [
    "model.wv.index_to_key"
   ]
  },
  {
   "cell_type": "code",
   "execution_count": 24,
   "id": "2b9fc949-bae0-4aab-8b76-6a978036cd69",
   "metadata": {
    "collapsed": false
   },
   "outputs": [
    {
     "ename": "KeyboardInterrupt",
     "evalue": "",
     "output_type": "error",
     "traceback": [
      "\u001b[0;31m---------------------------------------------------------------------------\u001b[0m",
      "\u001b[0;31mKeyboardInterrupt\u001b[0m                         Traceback (most recent call last)",
      "Cell \u001b[0;32mIn[24], line 15\u001b[0m\n\u001b[1;32m      2\u001b[0m vectors \u001b[38;5;241m=\u001b[39m model\u001b[38;5;241m.\u001b[39mwv\u001b[38;5;241m.\u001b[39mvectors\n\u001b[1;32m      4\u001b[0m tsne_model \u001b[38;5;241m=\u001b[39m TSNE(\n\u001b[1;32m      5\u001b[0m     n_components\u001b[38;5;241m=\u001b[39m\u001b[38;5;241m2\u001b[39m,\n\u001b[1;32m      6\u001b[0m     random_state\u001b[38;5;241m=\u001b[39m\u001b[38;5;241m42\u001b[39m,\n\u001b[0;32m   (...)\u001b[0m\n\u001b[1;32m     12\u001b[0m \n\u001b[1;32m     13\u001b[0m )\n\u001b[0;32m---> 15\u001b[0m new_values \u001b[38;5;241m=\u001b[39m \u001b[43mtsne_model\u001b[49m\u001b[38;5;241;43m.\u001b[39;49m\u001b[43mfit_transform\u001b[49m\u001b[43m(\u001b[49m\u001b[43mvectors\u001b[49m\u001b[43m)\u001b[49m\n",
      "File \u001b[0;32m~/Documents/postgrados/ia/nlp/.venv/lib/python3.8/site-packages/sklearn/manifold/_t_sne.py:1117\u001b[0m, in \u001b[0;36mTSNE.fit_transform\u001b[0;34m(self, X, y)\u001b[0m\n\u001b[1;32m   1097\u001b[0m \u001b[38;5;28;01mdef\u001b[39;00m\u001b[38;5;250m \u001b[39m\u001b[38;5;21mfit_transform\u001b[39m(\u001b[38;5;28mself\u001b[39m, X, y\u001b[38;5;241m=\u001b[39m\u001b[38;5;28;01mNone\u001b[39;00m):\n\u001b[1;32m   1098\u001b[0m \u001b[38;5;250m    \u001b[39m\u001b[38;5;124;03m\"\"\"Fit X into an embedded space and return that transformed output.\u001b[39;00m\n\u001b[1;32m   1099\u001b[0m \n\u001b[1;32m   1100\u001b[0m \u001b[38;5;124;03m    Parameters\u001b[39;00m\n\u001b[0;32m   (...)\u001b[0m\n\u001b[1;32m   1115\u001b[0m \u001b[38;5;124;03m        Embedding of the training data in low-dimensional space.\u001b[39;00m\n\u001b[1;32m   1116\u001b[0m \u001b[38;5;124;03m    \"\"\"\u001b[39;00m\n\u001b[0;32m-> 1117\u001b[0m     embedding \u001b[38;5;241m=\u001b[39m \u001b[38;5;28;43mself\u001b[39;49m\u001b[38;5;241;43m.\u001b[39;49m\u001b[43m_fit\u001b[49m\u001b[43m(\u001b[49m\u001b[43mX\u001b[49m\u001b[43m)\u001b[49m\n\u001b[1;32m   1118\u001b[0m     \u001b[38;5;28mself\u001b[39m\u001b[38;5;241m.\u001b[39membedding_ \u001b[38;5;241m=\u001b[39m embedding\n\u001b[1;32m   1119\u001b[0m     \u001b[38;5;28;01mreturn\u001b[39;00m \u001b[38;5;28mself\u001b[39m\u001b[38;5;241m.\u001b[39membedding_\n",
      "File \u001b[0;32m~/Documents/postgrados/ia/nlp/.venv/lib/python3.8/site-packages/sklearn/manifold/_t_sne.py:957\u001b[0m, in \u001b[0;36mTSNE._fit\u001b[0;34m(self, X, skip_num_points)\u001b[0m\n\u001b[1;32m    950\u001b[0m     \u001b[38;5;28mprint\u001b[39m(\n\u001b[1;32m    951\u001b[0m         \u001b[38;5;124m\"\u001b[39m\u001b[38;5;124m[t-SNE] Indexed \u001b[39m\u001b[38;5;132;01m{}\u001b[39;00m\u001b[38;5;124m samples in \u001b[39m\u001b[38;5;132;01m{:.3f}\u001b[39;00m\u001b[38;5;124ms...\u001b[39m\u001b[38;5;124m\"\u001b[39m\u001b[38;5;241m.\u001b[39mformat(\n\u001b[1;32m    952\u001b[0m             n_samples, duration\n\u001b[1;32m    953\u001b[0m         )\n\u001b[1;32m    954\u001b[0m     )\n\u001b[1;32m    956\u001b[0m t0 \u001b[38;5;241m=\u001b[39m time()\n\u001b[0;32m--> 957\u001b[0m distances_nn \u001b[38;5;241m=\u001b[39m \u001b[43mknn\u001b[49m\u001b[38;5;241;43m.\u001b[39;49m\u001b[43mkneighbors_graph\u001b[49m\u001b[43m(\u001b[49m\u001b[43mmode\u001b[49m\u001b[38;5;241;43m=\u001b[39;49m\u001b[38;5;124;43m\"\u001b[39;49m\u001b[38;5;124;43mdistance\u001b[39;49m\u001b[38;5;124;43m\"\u001b[39;49m\u001b[43m)\u001b[49m\n\u001b[1;32m    958\u001b[0m duration \u001b[38;5;241m=\u001b[39m time() \u001b[38;5;241m-\u001b[39m t0\n\u001b[1;32m    959\u001b[0m \u001b[38;5;28;01mif\u001b[39;00m \u001b[38;5;28mself\u001b[39m\u001b[38;5;241m.\u001b[39mverbose:\n",
      "File \u001b[0;32m~/Documents/postgrados/ia/nlp/.venv/lib/python3.8/site-packages/sklearn/neighbors/_base.py:924\u001b[0m, in \u001b[0;36mKNeighborsMixin.kneighbors_graph\u001b[0;34m(self, X, n_neighbors, mode)\u001b[0m\n\u001b[1;32m    921\u001b[0m     A_data \u001b[38;5;241m=\u001b[39m np\u001b[38;5;241m.\u001b[39mones(n_queries \u001b[38;5;241m*\u001b[39m n_neighbors)\n\u001b[1;32m    923\u001b[0m \u001b[38;5;28;01melif\u001b[39;00m mode \u001b[38;5;241m==\u001b[39m \u001b[38;5;124m\"\u001b[39m\u001b[38;5;124mdistance\u001b[39m\u001b[38;5;124m\"\u001b[39m:\n\u001b[0;32m--> 924\u001b[0m     A_data, A_ind \u001b[38;5;241m=\u001b[39m \u001b[38;5;28;43mself\u001b[39;49m\u001b[38;5;241;43m.\u001b[39;49m\u001b[43mkneighbors\u001b[49m\u001b[43m(\u001b[49m\u001b[43mX\u001b[49m\u001b[43m,\u001b[49m\u001b[43m \u001b[49m\u001b[43mn_neighbors\u001b[49m\u001b[43m,\u001b[49m\u001b[43m \u001b[49m\u001b[43mreturn_distance\u001b[49m\u001b[38;5;241;43m=\u001b[39;49m\u001b[38;5;28;43;01mTrue\u001b[39;49;00m\u001b[43m)\u001b[49m\n\u001b[1;32m    925\u001b[0m     A_data \u001b[38;5;241m=\u001b[39m np\u001b[38;5;241m.\u001b[39mravel(A_data)\n\u001b[1;32m    927\u001b[0m \u001b[38;5;28;01melse\u001b[39;00m:\n",
      "File \u001b[0;32m~/Documents/postgrados/ia/nlp/.venv/lib/python3.8/site-packages/sklearn/neighbors/_base.py:796\u001b[0m, in \u001b[0;36mKNeighborsMixin.kneighbors\u001b[0;34m(self, X, n_neighbors, return_distance)\u001b[0m\n\u001b[1;32m    793\u001b[0m     \u001b[38;5;28;01melse\u001b[39;00m:\n\u001b[1;32m    794\u001b[0m         kwds \u001b[38;5;241m=\u001b[39m \u001b[38;5;28mself\u001b[39m\u001b[38;5;241m.\u001b[39meffective_metric_params_\n\u001b[0;32m--> 796\u001b[0m     chunked_results \u001b[38;5;241m=\u001b[39m \u001b[38;5;28;43mlist\u001b[39;49m\u001b[43m(\u001b[49m\n\u001b[1;32m    797\u001b[0m \u001b[43m        \u001b[49m\u001b[43mpairwise_distances_chunked\u001b[49m\u001b[43m(\u001b[49m\n\u001b[1;32m    798\u001b[0m \u001b[43m            \u001b[49m\u001b[43mX\u001b[49m\u001b[43m,\u001b[49m\n\u001b[1;32m    799\u001b[0m \u001b[43m            \u001b[49m\u001b[38;5;28;43mself\u001b[39;49m\u001b[38;5;241;43m.\u001b[39;49m\u001b[43m_fit_X\u001b[49m\u001b[43m,\u001b[49m\n\u001b[1;32m    800\u001b[0m \u001b[43m            \u001b[49m\u001b[43mreduce_func\u001b[49m\u001b[38;5;241;43m=\u001b[39;49m\u001b[43mreduce_func\u001b[49m\u001b[43m,\u001b[49m\n\u001b[1;32m    801\u001b[0m \u001b[43m            \u001b[49m\u001b[43mmetric\u001b[49m\u001b[38;5;241;43m=\u001b[39;49m\u001b[38;5;28;43mself\u001b[39;49m\u001b[38;5;241;43m.\u001b[39;49m\u001b[43meffective_metric_\u001b[49m\u001b[43m,\u001b[49m\n\u001b[1;32m    802\u001b[0m \u001b[43m            \u001b[49m\u001b[43mn_jobs\u001b[49m\u001b[38;5;241;43m=\u001b[39;49m\u001b[43mn_jobs\u001b[49m\u001b[43m,\u001b[49m\n\u001b[1;32m    803\u001b[0m \u001b[43m            \u001b[49m\u001b[38;5;241;43m*\u001b[39;49m\u001b[38;5;241;43m*\u001b[39;49m\u001b[43mkwds\u001b[49m\u001b[43m,\u001b[49m\n\u001b[1;32m    804\u001b[0m \u001b[43m        \u001b[49m\u001b[43m)\u001b[49m\n\u001b[1;32m    805\u001b[0m \u001b[43m    \u001b[49m\u001b[43m)\u001b[49m\n\u001b[1;32m    807\u001b[0m \u001b[38;5;28;01melif\u001b[39;00m \u001b[38;5;28mself\u001b[39m\u001b[38;5;241m.\u001b[39m_fit_method \u001b[38;5;129;01min\u001b[39;00m [\u001b[38;5;124m\"\u001b[39m\u001b[38;5;124mball_tree\u001b[39m\u001b[38;5;124m\"\u001b[39m, \u001b[38;5;124m\"\u001b[39m\u001b[38;5;124mkd_tree\u001b[39m\u001b[38;5;124m\"\u001b[39m]:\n\u001b[1;32m    808\u001b[0m     \u001b[38;5;28;01mif\u001b[39;00m issparse(X):\n",
      "File \u001b[0;32m~/Documents/postgrados/ia/nlp/.venv/lib/python3.8/site-packages/sklearn/metrics/pairwise.py:1817\u001b[0m, in \u001b[0;36mpairwise_distances_chunked\u001b[0;34m(X, Y, reduce_func, metric, n_jobs, working_memory, **kwds)\u001b[0m\n\u001b[1;32m   1815\u001b[0m \u001b[38;5;28;01melse\u001b[39;00m:\n\u001b[1;32m   1816\u001b[0m     X_chunk \u001b[38;5;241m=\u001b[39m X[sl]\n\u001b[0;32m-> 1817\u001b[0m D_chunk \u001b[38;5;241m=\u001b[39m \u001b[43mpairwise_distances\u001b[49m\u001b[43m(\u001b[49m\u001b[43mX_chunk\u001b[49m\u001b[43m,\u001b[49m\u001b[43m \u001b[49m\u001b[43mY\u001b[49m\u001b[43m,\u001b[49m\u001b[43m \u001b[49m\u001b[43mmetric\u001b[49m\u001b[38;5;241;43m=\u001b[39;49m\u001b[43mmetric\u001b[49m\u001b[43m,\u001b[49m\u001b[43m \u001b[49m\u001b[43mn_jobs\u001b[49m\u001b[38;5;241;43m=\u001b[39;49m\u001b[43mn_jobs\u001b[49m\u001b[43m,\u001b[49m\u001b[43m \u001b[49m\u001b[38;5;241;43m*\u001b[39;49m\u001b[38;5;241;43m*\u001b[39;49m\u001b[43mkwds\u001b[49m\u001b[43m)\u001b[49m\n\u001b[1;32m   1818\u001b[0m \u001b[38;5;28;01mif\u001b[39;00m (X \u001b[38;5;129;01mis\u001b[39;00m Y \u001b[38;5;129;01mor\u001b[39;00m Y \u001b[38;5;129;01mis\u001b[39;00m \u001b[38;5;28;01mNone\u001b[39;00m) \u001b[38;5;129;01mand\u001b[39;00m PAIRWISE_DISTANCE_FUNCTIONS\u001b[38;5;241m.\u001b[39mget(\n\u001b[1;32m   1819\u001b[0m     metric, \u001b[38;5;28;01mNone\u001b[39;00m\n\u001b[1;32m   1820\u001b[0m ) \u001b[38;5;129;01mis\u001b[39;00m euclidean_distances:\n\u001b[1;32m   1821\u001b[0m     \u001b[38;5;66;03m# zeroing diagonal, taking care of aliases of \"euclidean\",\u001b[39;00m\n\u001b[1;32m   1822\u001b[0m     \u001b[38;5;66;03m# i.e. \"l2\"\u001b[39;00m\n\u001b[1;32m   1823\u001b[0m     D_chunk\u001b[38;5;241m.\u001b[39mflat[sl\u001b[38;5;241m.\u001b[39mstart :: _num_samples(X) \u001b[38;5;241m+\u001b[39m \u001b[38;5;241m1\u001b[39m] \u001b[38;5;241m=\u001b[39m \u001b[38;5;241m0\u001b[39m\n",
      "File \u001b[0;32m~/Documents/postgrados/ia/nlp/.venv/lib/python3.8/site-packages/sklearn/metrics/pairwise.py:1989\u001b[0m, in \u001b[0;36mpairwise_distances\u001b[0;34m(X, Y, metric, n_jobs, force_all_finite, **kwds)\u001b[0m\n\u001b[1;32m   1986\u001b[0m         \u001b[38;5;28;01mreturn\u001b[39;00m distance\u001b[38;5;241m.\u001b[39msquareform(distance\u001b[38;5;241m.\u001b[39mpdist(X, metric\u001b[38;5;241m=\u001b[39mmetric, \u001b[38;5;241m*\u001b[39m\u001b[38;5;241m*\u001b[39mkwds))\n\u001b[1;32m   1987\u001b[0m     func \u001b[38;5;241m=\u001b[39m partial(distance\u001b[38;5;241m.\u001b[39mcdist, metric\u001b[38;5;241m=\u001b[39mmetric, \u001b[38;5;241m*\u001b[39m\u001b[38;5;241m*\u001b[39mkwds)\n\u001b[0;32m-> 1989\u001b[0m \u001b[38;5;28;01mreturn\u001b[39;00m \u001b[43m_parallel_pairwise\u001b[49m\u001b[43m(\u001b[49m\u001b[43mX\u001b[49m\u001b[43m,\u001b[49m\u001b[43m \u001b[49m\u001b[43mY\u001b[49m\u001b[43m,\u001b[49m\u001b[43m \u001b[49m\u001b[43mfunc\u001b[49m\u001b[43m,\u001b[49m\u001b[43m \u001b[49m\u001b[43mn_jobs\u001b[49m\u001b[43m,\u001b[49m\u001b[43m \u001b[49m\u001b[38;5;241;43m*\u001b[39;49m\u001b[38;5;241;43m*\u001b[39;49m\u001b[43mkwds\u001b[49m\u001b[43m)\u001b[49m\n",
      "File \u001b[0;32m~/Documents/postgrados/ia/nlp/.venv/lib/python3.8/site-packages/sklearn/metrics/pairwise.py:1535\u001b[0m, in \u001b[0;36m_parallel_pairwise\u001b[0;34m(X, Y, func, n_jobs, **kwds)\u001b[0m\n\u001b[1;32m   1533\u001b[0m fd \u001b[38;5;241m=\u001b[39m delayed(_dist_wrapper)\n\u001b[1;32m   1534\u001b[0m ret \u001b[38;5;241m=\u001b[39m np\u001b[38;5;241m.\u001b[39mempty((X\u001b[38;5;241m.\u001b[39mshape[\u001b[38;5;241m0\u001b[39m], Y\u001b[38;5;241m.\u001b[39mshape[\u001b[38;5;241m0\u001b[39m]), dtype\u001b[38;5;241m=\u001b[39mdtype, order\u001b[38;5;241m=\u001b[39m\u001b[38;5;124m\"\u001b[39m\u001b[38;5;124mF\u001b[39m\u001b[38;5;124m\"\u001b[39m)\n\u001b[0;32m-> 1535\u001b[0m \u001b[43mParallel\u001b[49m\u001b[43m(\u001b[49m\u001b[43mbackend\u001b[49m\u001b[38;5;241;43m=\u001b[39;49m\u001b[38;5;124;43m\"\u001b[39;49m\u001b[38;5;124;43mthreading\u001b[39;49m\u001b[38;5;124;43m\"\u001b[39;49m\u001b[43m,\u001b[49m\u001b[43m \u001b[49m\u001b[43mn_jobs\u001b[49m\u001b[38;5;241;43m=\u001b[39;49m\u001b[43mn_jobs\u001b[49m\u001b[43m)\u001b[49m\u001b[43m(\u001b[49m\n\u001b[1;32m   1536\u001b[0m \u001b[43m    \u001b[49m\u001b[43mfd\u001b[49m\u001b[43m(\u001b[49m\u001b[43mfunc\u001b[49m\u001b[43m,\u001b[49m\u001b[43m \u001b[49m\u001b[43mret\u001b[49m\u001b[43m,\u001b[49m\u001b[43m \u001b[49m\u001b[43ms\u001b[49m\u001b[43m,\u001b[49m\u001b[43m \u001b[49m\u001b[43mX\u001b[49m\u001b[43m,\u001b[49m\u001b[43m \u001b[49m\u001b[43mY\u001b[49m\u001b[43m[\u001b[49m\u001b[43ms\u001b[49m\u001b[43m]\u001b[49m\u001b[43m,\u001b[49m\u001b[43m \u001b[49m\u001b[38;5;241;43m*\u001b[39;49m\u001b[38;5;241;43m*\u001b[39;49m\u001b[43mkwds\u001b[49m\u001b[43m)\u001b[49m\n\u001b[1;32m   1537\u001b[0m \u001b[43m    \u001b[49m\u001b[38;5;28;43;01mfor\u001b[39;49;00m\u001b[43m \u001b[49m\u001b[43ms\u001b[49m\u001b[43m \u001b[49m\u001b[38;5;129;43;01min\u001b[39;49;00m\u001b[43m \u001b[49m\u001b[43mgen_even_slices\u001b[49m\u001b[43m(\u001b[49m\u001b[43m_num_samples\u001b[49m\u001b[43m(\u001b[49m\u001b[43mY\u001b[49m\u001b[43m)\u001b[49m\u001b[43m,\u001b[49m\u001b[43m \u001b[49m\u001b[43meffective_n_jobs\u001b[49m\u001b[43m(\u001b[49m\u001b[43mn_jobs\u001b[49m\u001b[43m)\u001b[49m\u001b[43m)\u001b[49m\n\u001b[1;32m   1538\u001b[0m \u001b[43m\u001b[49m\u001b[43m)\u001b[49m\n\u001b[1;32m   1540\u001b[0m \u001b[38;5;28;01mif\u001b[39;00m (X \u001b[38;5;129;01mis\u001b[39;00m Y \u001b[38;5;129;01mor\u001b[39;00m Y \u001b[38;5;129;01mis\u001b[39;00m \u001b[38;5;28;01mNone\u001b[39;00m) \u001b[38;5;129;01mand\u001b[39;00m func \u001b[38;5;129;01mis\u001b[39;00m euclidean_distances:\n\u001b[1;32m   1541\u001b[0m     \u001b[38;5;66;03m# zeroing diagonal for euclidean norm.\u001b[39;00m\n\u001b[1;32m   1542\u001b[0m     \u001b[38;5;66;03m# TODO: do it also for other norms.\u001b[39;00m\n\u001b[1;32m   1543\u001b[0m     np\u001b[38;5;241m.\u001b[39mfill_diagonal(ret, \u001b[38;5;241m0\u001b[39m)\n",
      "File \u001b[0;32m~/Documents/postgrados/ia/nlp/.venv/lib/python3.8/site-packages/joblib/parallel.py:2007\u001b[0m, in \u001b[0;36mParallel.__call__\u001b[0;34m(self, iterable)\u001b[0m\n\u001b[1;32m   2001\u001b[0m \u001b[38;5;66;03m# The first item from the output is blank, but it makes the interpreter\u001b[39;00m\n\u001b[1;32m   2002\u001b[0m \u001b[38;5;66;03m# progress until it enters the Try/Except block of the generator and\u001b[39;00m\n\u001b[1;32m   2003\u001b[0m \u001b[38;5;66;03m# reaches the first `yield` statement. This starts the asynchronous\u001b[39;00m\n\u001b[1;32m   2004\u001b[0m \u001b[38;5;66;03m# dispatch of the tasks to the workers.\u001b[39;00m\n\u001b[1;32m   2005\u001b[0m \u001b[38;5;28mnext\u001b[39m(output)\n\u001b[0;32m-> 2007\u001b[0m \u001b[38;5;28;01mreturn\u001b[39;00m output \u001b[38;5;28;01mif\u001b[39;00m \u001b[38;5;28mself\u001b[39m\u001b[38;5;241m.\u001b[39mreturn_generator \u001b[38;5;28;01melse\u001b[39;00m \u001b[38;5;28;43mlist\u001b[39;49m\u001b[43m(\u001b[49m\u001b[43moutput\u001b[49m\u001b[43m)\u001b[49m\n",
      "File \u001b[0;32m~/Documents/postgrados/ia/nlp/.venv/lib/python3.8/site-packages/joblib/parallel.py:1650\u001b[0m, in \u001b[0;36mParallel._get_outputs\u001b[0;34m(self, iterator, pre_dispatch)\u001b[0m\n\u001b[1;32m   1647\u001b[0m     \u001b[38;5;28;01myield\u001b[39;00m\n\u001b[1;32m   1649\u001b[0m     \u001b[38;5;28;01mwith\u001b[39;00m \u001b[38;5;28mself\u001b[39m\u001b[38;5;241m.\u001b[39m_backend\u001b[38;5;241m.\u001b[39mretrieval_context():\n\u001b[0;32m-> 1650\u001b[0m         \u001b[38;5;28;01myield from\u001b[39;00m \u001b[38;5;28mself\u001b[39m\u001b[38;5;241m.\u001b[39m_retrieve()\n\u001b[1;32m   1652\u001b[0m \u001b[38;5;28;01mexcept\u001b[39;00m \u001b[38;5;167;01mGeneratorExit\u001b[39;00m:\n\u001b[1;32m   1653\u001b[0m     \u001b[38;5;66;03m# The generator has been garbage collected before being fully\u001b[39;00m\n\u001b[1;32m   1654\u001b[0m     \u001b[38;5;66;03m# consumed. This aborts the remaining tasks if possible and warn\u001b[39;00m\n\u001b[1;32m   1655\u001b[0m     \u001b[38;5;66;03m# the user if necessary.\u001b[39;00m\n\u001b[1;32m   1656\u001b[0m     \u001b[38;5;28mself\u001b[39m\u001b[38;5;241m.\u001b[39m_exception \u001b[38;5;241m=\u001b[39m \u001b[38;5;28;01mTrue\u001b[39;00m\n",
      "File \u001b[0;32m~/Documents/postgrados/ia/nlp/.venv/lib/python3.8/site-packages/joblib/parallel.py:1762\u001b[0m, in \u001b[0;36mParallel._retrieve\u001b[0;34m(self)\u001b[0m\n\u001b[1;32m   1757\u001b[0m \u001b[38;5;66;03m# If the next job is not ready for retrieval yet, we just wait for\u001b[39;00m\n\u001b[1;32m   1758\u001b[0m \u001b[38;5;66;03m# async callbacks to progress.\u001b[39;00m\n\u001b[1;32m   1759\u001b[0m \u001b[38;5;28;01mif\u001b[39;00m ((\u001b[38;5;28mlen\u001b[39m(\u001b[38;5;28mself\u001b[39m\u001b[38;5;241m.\u001b[39m_jobs) \u001b[38;5;241m==\u001b[39m \u001b[38;5;241m0\u001b[39m) \u001b[38;5;129;01mor\u001b[39;00m\n\u001b[1;32m   1760\u001b[0m     (\u001b[38;5;28mself\u001b[39m\u001b[38;5;241m.\u001b[39m_jobs[\u001b[38;5;241m0\u001b[39m]\u001b[38;5;241m.\u001b[39mget_status(\n\u001b[1;32m   1761\u001b[0m         timeout\u001b[38;5;241m=\u001b[39m\u001b[38;5;28mself\u001b[39m\u001b[38;5;241m.\u001b[39mtimeout) \u001b[38;5;241m==\u001b[39m TASK_PENDING)):\n\u001b[0;32m-> 1762\u001b[0m     \u001b[43mtime\u001b[49m\u001b[38;5;241;43m.\u001b[39;49m\u001b[43msleep\u001b[49m\u001b[43m(\u001b[49m\u001b[38;5;241;43m0.01\u001b[39;49m\u001b[43m)\u001b[49m\n\u001b[1;32m   1763\u001b[0m     \u001b[38;5;28;01mcontinue\u001b[39;00m\n\u001b[1;32m   1765\u001b[0m \u001b[38;5;66;03m# We need to be careful: the job list can be filling up as\u001b[39;00m\n\u001b[1;32m   1766\u001b[0m \u001b[38;5;66;03m# we empty it and Python list are not thread-safe by\u001b[39;00m\n\u001b[1;32m   1767\u001b[0m \u001b[38;5;66;03m# default hence the use of the lock\u001b[39;00m\n",
      "\u001b[0;31mKeyboardInterrupt\u001b[0m: "
     ]
    }
   ],
   "source": [
    "labels = list(model.wv.index_to_key)\n",
    "vectors = model.wv.vectors\n",
    "\n",
    "tsne_model = TSNE(\n",
    "    n_components=2,\n",
    "    random_state=42,\n",
    "    perplexity=30,\n",
    "    n_iter=250,\n",
    "    init='pca',\n",
    "    learning_rate='auto',\n",
    "    n_jobs=12\n",
    "\n",
    ")\n",
    "\n",
    "new_values = tsne_model.fit_transform(vectors)"
   ]
  },
  {
   "cell_type": "code",
   "execution_count": 25,
   "id": "47a77c47-1362-40f6-a1fc-1a3bb903e720",
   "metadata": {
    "collapsed": false
   },
   "outputs": [
    {
     "ename": "SyntaxError",
     "evalue": "invalid syntax (4070743486.py, line 3)",
     "output_type": "error",
     "traceback": [
      "\u001b[0;36m  Cell \u001b[0;32mIn[25], line 3\u001b[0;36m\u001b[0m\n\u001b[0;31m    def plot()\u001b[0m\n\u001b[0m              ^\u001b[0m\n\u001b[0;31mSyntaxError\u001b[0m\u001b[0;31m:\u001b[0m invalid syntax\n"
     ]
    }
   ],
   "source": [
    "\n",
    "def plot_with_tsne(model, words_to_plot=None, perplexity=30, n_iter=1000, random_state=42):\n",
    "    return\n",
    "def plot()\n",
    "    x = [value[0] for value in new_values]\n",
    "    y = [value[1] for value in new_values]\n",
    "\n",
    "    plt.figure(figsize=(16, 10))\n",
    "    for i in range(len(x)):\n",
    "        plt.scatter(x[i], y[i])\n",
    "        try:\n",
    "            plt.annotate(\n",
    "                labels[i],\n",
    "                xy=(x[i], y[i]),\n",
    "                xytext=(5, 2),\n",
    "                textcoords='offset points',\n",
    "                ha='right',\n",
    "                va='bottom',\n",
    "                fontproperties=matplotlib.font_manager.FontProperties(size=10)\n",
    "            )\n",
    "        except Exception:\n",
    "            plt.annotate(\n",
    "                labels[i],\n",
    "                xy=(x[i], y[i]),\n",
    "                xytext=(5, 2),\n",
    "                textcoords='offset points',\n",
    "                ha='right',\n",
    "                va='bottom'\n",
    "            )\n",
    "\n",
    "    plt.title(f\"t-SNE visualization (Perplexity: {effective_perplexity})\")\n",
    "    plt.xlabel(\"t-SNE Component 1\")\n",
    "    plt.ylabel(\"t-SNE Component 2\")\n",
    "    plt.grid(True)\n",
    "    plt.show()\n"
   ]
  },
  {
   "cell_type": "code",
   "execution_count": 26,
   "id": "377cc97f-e0c3-4c21-b47e-da428d4694c2",
   "metadata": {
    "collapsed": false
   },
   "outputs": [],
   "source": [
    "from sklearn.decomposition import PCA\n",
    "\n",
    "pca = PCA(n_components=2)\n",
    "transformed = pca.fit_transform(model.wv.vectors)"
   ]
  },
  {
   "cell_type": "code",
   "execution_count": 33,
   "id": "5fe1a1b3-e221-448e-85e2-57f38aa8c3e9",
   "metadata": {
    "collapsed": false
   },
   "outputs": [],
   "source": [
    "def plot_related_words(vectors, model, root):\n",
    "    plt.scatter(vectors[0], vectors[1])\n",
    "\n",
    "    similar_words = [word for word, cos in model.wv.most_similar(positive=[root], topn=5)]\n",
    "    coords = transformed[model.wv.get_index(root)]\n",
    "    plt.scatter(coords[0], coords[1], color='yellow')\n",
    "    for similar in similar_words:\n",
    "        coords = transformed[model.wv.get_index(similar)]\n",
    "        plt.scatter(coords[0], coords[1], color='red')\n",
    "    plt.show()"
   ]
  },
  {
   "cell_type": "code",
   "execution_count": 34,
   "id": "d6339eba-8bc2-4021-9dc7-e1459f159de9",
   "metadata": {
    "collapsed": false
   },
   "outputs": [
    {
     "data": {
      "image/png": "[encoded data removed]",
      "text/plain": [
       "<Figure size 640x480 with 1 Axes>"
      ]
     },
     "metadata": {},
     "output_type": "display_data"
    }
   ],
   "source": [
    "plot_related_words(transformed.T, model, 'caesar')"
   ]
  },
  {
   "cell_type": "code",
   "execution_count": 27,
   "id": "4d158651-143f-4c60-8bde-65fe296c1587",
   "metadata": {
    "collapsed": false
   },
   "outputs": [],
   "source": []
  },
  {
   "cell_type": "code",
   "execution_count": 28,
   "id": "6bace8ff-98e7-452c-a6ee-a77a695ac11d",
   "metadata": {
    "collapsed": false
   },
   "outputs": [
    {
     "data": {
      "text/plain": [
       "array([ 2.0799637 ,  2.0952625 ,  2.039838  , ..., -0.25468898,\n",
       "       -0.18591455, -0.26804474], dtype=float32)"
      ]
     },
     "execution_count": 28,
     "metadata": {},
     "output_type": "execute_result"
    }
   ],
   "source": [
    "transformed.T[0]"
   ]
  }
 ],
 "metadata": {
  "kernelspec": {
   "argv": [
    "python",
    "-m",
    "ipykernel_launcher",
    "-f",
    "{connection_file}"
   ],
   "display_name": "Python 3 (ipykernel)",
   "env": null,
   "interrupt_mode": "signal",
   "language": "python",
   "metadata": {
    "debugger": true
   },
   "name": "python3"
  },
  "name": "desafio_2.ipynb"
 },
 "nbformat": 4,
 "nbformat_minor": 5
}
